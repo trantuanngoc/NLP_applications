{
  "cells": [
    {
      "cell_type": "markdown",
      "metadata": {
        "id": "JltEtWiHX63K"
      },
      "source": [
        "#Problem 1"
      ]
    },
    {
      "cell_type": "code",
      "execution_count": 3,
      "metadata": {
        "id": "smbOMgmEZmgq"
      },
      "outputs": [],
      "source": [
        "import torch\n",
        "import numpy as np\n",
        "from scipy import spatial"
      ]
    },
    {
      "cell_type": "code",
      "execution_count": 7,
      "metadata": {
        "id": "QA78UJUwsObP"
      },
      "outputs": [],
      "source": [
        "with open('W2V_150.txt') as f:\n",
        "    lines = f.readlines()\n",
        "lines=lines[2:]\n",
        "\n",
        "vocab={}\n",
        "for line in lines:\n",
        "    s=line.split()\n",
        "    vocab[s[0]]= np.array(s[1:], dtype=\"float\")"
      ]
    },
    {
      "cell_type": "code",
      "execution_count": 14,
      "metadata": {
        "id": "Y6ywSbJEuMLP"
      },
      "outputs": [],
      "source": [
        "def cos_simi(w1, w2, voca):\n",
        "    return 1 - spatial.distance.cosine(voca[w1], voca[w2])\n",
        "\n",
        "def scale_simi(sim1):\n",
        "    return float(sim1)*(1.0-(-1.0))/(6.0-0) -1.0"
      ]
    },
    {
      "cell_type": "code",
      "execution_count": 10,
      "metadata": {
        "id": "PLoZ2pLpKGp5"
      },
      "outputs": [],
      "source": [
        "HIGH_SIM = 0.8"
      ]
    },
    {
      "cell_type": "code",
      "execution_count": 55,
      "metadata": {
        "colab": {
          "base_uri": "https://localhost:8080/"
        },
        "id": "h_S_FNmqEKjX",
        "outputId": "99d5201b-0f5a-4cad-ed95-1772ffeb647e"
      },
      "outputs": [
        {
          "name": "stdout",
          "output_type": "stream",
          "text": [
            "có_ích hữu_ích Calculated_simi:0.6624093852340639\n",
            "Evaluation_score[0,6]:5.67\n",
            "Evaluation_score[-1,1]:0.8899999999999999\n",
            "mới_tinh mới_toanh Calculated_simi:0.4812901949758728\n",
            "Evaluation_score[0,6]:5.73\n",
            "Evaluation_score[-1,1]:0.9100000000000001\n"
          ]
        }
      ],
      "source": [
        "with open('Visim-400.txt') as f:\n",
        "    lines = f.readlines()\n",
        "lines = lines[1:]\n",
        "\n",
        "count = 0\n",
        "for line in lines:\n",
        "    word_pair = line.split()\n",
        "    if (word_pair[0] in vocab) and (word_pair[1] in vocab) and (scale_simi((word_pair[3])) > HIGH_SIM) :\n",
        "            print(word_pair[0], word_pair[1],\"Calculated_simi:{}\".format(cos_simi(word_pair[0], word_pair[1], vocab))) \n",
        "            print(\"Evaluation_score[0,6]:{}\".format(word_pair[3]))\n",
        "            print(\"Evaluation_score[-1,1]:{}\".format(scale_simi(word_pair[3])))\n",
        "            count +=1\n",
        "            if count == 2:\n",
        "                break"
      ]
    }
  ],
  "metadata": {
    "accelerator": "GPU",
    "colab": {
      "provenance": []
    },
    "gpuClass": "standard",
    "kernelspec": {
      "display_name": "Python 3",
      "name": "python3"
    },
    "language_info": {
      "name": "python"
    }
  },
  "nbformat": 4,
  "nbformat_minor": 0
}
