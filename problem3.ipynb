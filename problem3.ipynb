{
  "cells": [
    {
      "cell_type": "markdown",
      "metadata": {
        "id": "obCr04jJQ1lZ"
      },
      "source": [
        "#Bài 3\n"
      ]
    },
    {
      "cell_type": "markdown",
      "metadata": {
        "id": "SDi09oDmFGcg"
      },
      "source": [
        "#Load pretrained model"
      ]
    },
    {
      "cell_type": "code",
      "execution_count": 20,
      "metadata": {
        "id": "usVTRQpGQ3nK"
      },
      "outputs": [],
      "source": [
        "with open('W2V_150.txt') as f:\n",
        "    lines = f.readlines()\n",
        "    \n",
        "lines=lines[2:]"
      ]
    },
    {
      "cell_type": "code",
      "execution_count": 21,
      "metadata": {
        "id": "c6MXctwDUpsG"
      },
      "outputs": [],
      "source": [
        "import  io\n",
        "import numpy as np\n",
        "from sklearn.metrics import precision_recall_fscore_support\n",
        "import torch\n",
        "\n",
        "vocab={}\n",
        "for line in lines:\n",
        "    s=line.split()\n",
        "    vocab[s[0]]= np.array(s[1:], dtype=\"float\")"
      ]
    },
    {
      "cell_type": "markdown",
      "metadata": {
        "id": "WUb7Yx3sFJfB"
      },
      "source": [
        "#Create training dataset"
      ]
    },
    {
      "cell_type": "code",
      "execution_count": 22,
      "metadata": {
        "id": "MtAOXuUAUs_m"
      },
      "outputs": [],
      "source": [
        "with open('Synonym_vietnamese.txt') as f:\n",
        "    lines = f.readlines()\n",
        "\n",
        "synonym = []\n",
        "for i in lines:\n",
        "    pair = i.split()\n",
        "    if len(pair)<2:\n",
        "        break\n",
        "    if (pair[0] in vocab) and (pair[1] in vocab):\n",
        "        synonym.append([vocab[pair[0]], vocab[pair[1]]])\n",
        "\n",
        "synonym = torch.tensor(np.array(synonym), dtype=torch.float)"
      ]
    },
    {
      "cell_type": "code",
      "execution_count": 23,
      "metadata": {
        "id": "D55j_0efVXqf"
      },
      "outputs": [],
      "source": [
        "with open('Antonym_vietnamese.txt') as f:\n",
        "    lines = f.readlines()\n",
        "\n",
        "antonym = []\n",
        "for i in lines:\n",
        "    pair = i.split()\n",
        "    if len(pair)<2:\n",
        "        break\n",
        "    if (pair[0] in vocab) and (pair[1] in vocab):\n",
        "        antonym.append([vocab[pair[0]], vocab[pair[1]]])\n",
        "\n",
        "antonym = torch.tensor(np.array(antonym), dtype=torch.float)"
      ]
    },
    {
      "cell_type": "code",
      "execution_count": 24,
      "metadata": {
        "id": "MpUKpzcycdLG"
      },
      "outputs": [],
      "source": [
        "x_train = torch.cat((synonym, antonym), 0).to(\"cuda\")"
      ]
    },
    {
      "cell_type": "code",
      "execution_count": 25,
      "metadata": {
        "id": "pb6ZfTupbPYj"
      },
      "outputs": [],
      "source": [
        "y_train = torch.cat((torch.ones(302), torch.zeros(1731)), 0).to(\"cuda\")"
      ]
    },
    {
      "cell_type": "markdown",
      "metadata": {
        "id": "XetTyn1ZFiQ6"
      },
      "source": [
        "#Create validation dataset"
      ]
    },
    {
      "cell_type": "code",
      "execution_count": 31,
      "metadata": {
        "id": "5Ol48wc4kI4i"
      },
      "outputs": [],
      "source": [
        "with open('600_adj_pairs.txt') as f:\n",
        "    lines = f.readlines()\n",
        "\n",
        "val_x = []\n",
        "val_y = []\n",
        "for line in lines:\n",
        "    pair = line.split()\n",
        "    if len(pair)<2:\n",
        "        break\n",
        "    if (pair[0] in vocab) and (pair[1] in vocab):\n",
        "        val_x.append([vocab[pair[0]], vocab[pair[1]]])\n",
        "        if pair[2]== \"SYN\":\n",
        "            val_y.append(1)\n",
        "        if pair[2]==\"ANT\":\n",
        "            val_y.append(0)\n",
        "\n",
        "val_x = torch.tensor(val_x, dtype=torch.float, device=\"cuda\")\n",
        "val_y = torch.tensor(val_y, dtype=torch.float, device=\"cuda\")"
      ]
    },
    {
      "cell_type": "markdown",
      "metadata": {
        "id": "ZjZISMbxFOmA"
      },
      "source": [
        "#Create model and declare hyperparameters"
      ]
    },
    {
      "cell_type": "code",
      "execution_count": 26,
      "metadata": {
        "id": "FW0iO2IAaF02"
      },
      "outputs": [],
      "source": [
        "INPUT_DIM = 300\n",
        "BATCH_SIZE = 32\n",
        "OUTPUT_DIM=1\n",
        "LR=0.001\n",
        "EPOCHS = 100"
      ]
    },
    {
      "cell_type": "code",
      "execution_count": 27,
      "metadata": {
        "id": "i4Ch4rcBbHV6"
      },
      "outputs": [],
      "source": [
        "from torch.utils.data import DataLoader, TensorDataset\n",
        "\n",
        "train_dataset = TensorDataset(x_train, y_train)\n",
        "train_loader = DataLoader(train_dataset, batch_size=BATCH_SIZE, shuffle=True)"
      ]
    },
    {
      "cell_type": "code",
      "execution_count": 32,
      "metadata": {
        "id": "j1w4OM0_mGpm"
      },
      "outputs": [],
      "source": [
        "val_dataset = TensorDataset(val_x, val_y)\n",
        "val_loader = DataLoader(val_dataset, batch_size=BATCH_SIZE, shuffle=True)"
      ]
    },
    {
      "cell_type": "code",
      "execution_count": 28,
      "metadata": {
        "id": "EFtD2x3ybMhf"
      },
      "outputs": [],
      "source": [
        "from torch import nn \n",
        "import torch\n",
        "import matplotlib.pyplot as plt\n",
        "\n",
        "class MLP(nn.Module):\n",
        "  def __init__(self, in_feature, out_feature):\n",
        "    super().__init__()\n",
        "    self.fc1 = nn.Linear(in_feature, 10, bias=False)\n",
        "    self.relu1 = nn.ReLU()\n",
        "    self.fc2 = nn.Linear(10, out_feature, bias=False)\n",
        "    self.sig = nn.Sigmoid()\n",
        "  \n",
        "  def forward(self, x):\n",
        "    out = self.fc1(x)\n",
        "    out = self.relu1(out)\n",
        "    out = self.fc2(out)\n",
        "    out = self.sig(out)\n",
        "    return out"
      ]
    },
    {
      "cell_type": "code",
      "execution_count": 71,
      "metadata": {
        "id": "cXgCSGofddu3"
      },
      "outputs": [],
      "source": [
        "model = MLP(INPUT_DIM, OUTPUT_DIM).cuda().float()"
      ]
    },
    {
      "cell_type": "code",
      "execution_count": 72,
      "metadata": {
        "id": "zT5RQ4jDdk2q"
      },
      "outputs": [],
      "source": [
        "criterion = torch.nn.BCELoss()\n",
        "optimizer = torch.optim.Adam(model.parameters(), lr=LR)"
      ]
    },
    {
      "cell_type": "markdown",
      "metadata": {
        "id": "bOh04eZDGi8n"
      },
      "source": [
        "# Training and validation"
      ]
    },
    {
      "cell_type": "code",
      "execution_count": 73,
      "metadata": {
        "colab": {
          "base_uri": "https://localhost:8080/"
        },
        "id": "C3FzXCUQdoIT",
        "outputId": "74201ea7-5dfb-4b92-8a25-6980867e4aa9"
      },
      "outputs": [
        {
          "name": "stdout",
          "output_type": "stream",
          "text": [
            "Epoch 1 - val_accuracy: 0.5599214145383105 - val_loss : 0.9382\n",
            "Epoch 2 - val_accuracy: 0.5697445972495089 - val_loss : 1.0021\n",
            "Epoch 3 - val_accuracy: 0.5893909626719057 - val_loss : 0.9913\n",
            "Epoch 4 - val_accuracy: 0.618860510805501 - val_loss : 0.9793\n",
            "Epoch 5 - val_accuracy: 0.6247544204322201 - val_loss : 1.0291\n",
            "Epoch 6 - val_accuracy: 0.6444007858546169 - val_loss : 1.0010\n",
            "Epoch 7 - val_accuracy: 0.6542239685658153 - val_loss : 1.0114\n",
            "Epoch 8 - val_accuracy: 0.6620825147347741 - val_loss : 1.0331\n",
            "Epoch 9 - val_accuracy: 0.6758349705304518 - val_loss : 1.0029\n",
            "Epoch 10 - val_accuracy: 0.6777996070726916 - val_loss : 1.0612\n",
            "Epoch 11 - val_accuracy: 0.68762278978389 - val_loss : 1.0299\n",
            "Epoch 12 - val_accuracy: 0.6915520628683693 - val_loss : 1.0755\n",
            "Epoch 13 - val_accuracy: 0.693516699410609 - val_loss : 1.1112\n",
            "Epoch 14 - val_accuracy: 0.7013752455795678 - val_loss : 1.0968\n",
            "Epoch 15 - val_accuracy: 0.6915520628683693 - val_loss : 1.1998\n",
            "Epoch 16 - val_accuracy: 0.6954813359528488 - val_loss : 1.2150\n",
            "Epoch 17 - val_accuracy: 0.7072691552062869 - val_loss : 1.2056\n",
            "Epoch 18 - val_accuracy: 0.7072691552062869 - val_loss : 1.2462\n",
            "Epoch 19 - val_accuracy: 0.7092337917485265 - val_loss : 1.2511\n",
            "Epoch 20 - val_accuracy: 0.7053045186640472 - val_loss : 1.3322\n",
            "Epoch 21 - val_accuracy: 0.7013752455795678 - val_loss : 1.3588\n",
            "Epoch 22 - val_accuracy: 0.7053045186640472 - val_loss : 1.3823\n",
            "Epoch 23 - val_accuracy: 0.7092337917485265 - val_loss : 1.3962\n",
            "Epoch 24 - val_accuracy: 0.7033398821218074 - val_loss : 1.4569\n",
            "Epoch 25 - val_accuracy: 0.7092337917485265 - val_loss : 1.4436\n",
            "Epoch 26 - val_accuracy: 0.7072691552062869 - val_loss : 1.5230\n",
            "Epoch 27 - val_accuracy: 0.7092337917485265 - val_loss : 1.5053\n",
            "Epoch 28 - val_accuracy: 0.7092337917485265 - val_loss : 1.5321\n",
            "Epoch 29 - val_accuracy: 0.6974459724950884 - val_loss : 1.5989\n",
            "Epoch 30 - val_accuracy: 0.7111984282907662 - val_loss : 1.5911\n",
            "Epoch 31 - val_accuracy: 0.7033398821218074 - val_loss : 1.6443\n",
            "Epoch 32 - val_accuracy: 0.7033398821218074 - val_loss : 1.6490\n",
            "Epoch 33 - val_accuracy: 0.7053045186640472 - val_loss : 1.6689\n",
            "Epoch 34 - val_accuracy: 0.7072691552062869 - val_loss : 1.7098\n",
            "Epoch 35 - val_accuracy: 0.7033398821218074 - val_loss : 1.7380\n",
            "Epoch 36 - val_accuracy: 0.7053045186640472 - val_loss : 1.7860\n",
            "Epoch 37 - val_accuracy: 0.7053045186640472 - val_loss : 1.7973\n",
            "Epoch 38 - val_accuracy: 0.7072691552062869 - val_loss : 1.7981\n",
            "Epoch 39 - val_accuracy: 0.7072691552062869 - val_loss : 1.8538\n",
            "Epoch 40 - val_accuracy: 0.7072691552062869 - val_loss : 1.8776\n",
            "Epoch 41 - val_accuracy: 0.7072691552062869 - val_loss : 1.8567\n",
            "Epoch 42 - val_accuracy: 0.7013752455795678 - val_loss : 1.9328\n",
            "Epoch 43 - val_accuracy: 0.7072691552062869 - val_loss : 1.9145\n",
            "Epoch 44 - val_accuracy: 0.7013752455795678 - val_loss : 1.9787\n",
            "Epoch 45 - val_accuracy: 0.7072691552062869 - val_loss : 1.9393\n",
            "Epoch 46 - val_accuracy: 0.7072691552062869 - val_loss : 2.0037\n",
            "Epoch 47 - val_accuracy: 0.7072691552062869 - val_loss : 2.0155\n",
            "Epoch 48 - val_accuracy: 0.7053045186640472 - val_loss : 2.0603\n",
            "Epoch 49 - val_accuracy: 0.7092337917485265 - val_loss : 2.0781\n",
            "Epoch 50 - val_accuracy: 0.7072691552062869 - val_loss : 2.0738\n",
            "Epoch 51 - val_accuracy: 0.7053045186640472 - val_loss : 2.0915\n",
            "Epoch 52 - val_accuracy: 0.7053045186640472 - val_loss : 2.1114\n",
            "Epoch 53 - val_accuracy: 0.7092337917485265 - val_loss : 2.1298\n",
            "Epoch 54 - val_accuracy: 0.7053045186640472 - val_loss : 2.1624\n",
            "Epoch 55 - val_accuracy: 0.7072691552062869 - val_loss : 2.1799\n",
            "Epoch 56 - val_accuracy: 0.7111984282907662 - val_loss : 2.1440\n",
            "Epoch 57 - val_accuracy: 0.7072691552062869 - val_loss : 2.2165\n",
            "Epoch 58 - val_accuracy: 0.7072691552062869 - val_loss : 2.2292\n",
            "Epoch 59 - val_accuracy: 0.7072691552062869 - val_loss : 2.2293\n",
            "Epoch 60 - val_accuracy: 0.7092337917485265 - val_loss : 2.2462\n",
            "Epoch 61 - val_accuracy: 0.7072691552062869 - val_loss : 2.2443\n",
            "Epoch 62 - val_accuracy: 0.7072691552062869 - val_loss : 2.2856\n",
            "Epoch 63 - val_accuracy: 0.7072691552062869 - val_loss : 2.3453\n",
            "Epoch 64 - val_accuracy: 0.7072691552062869 - val_loss : 2.3485\n",
            "Epoch 65 - val_accuracy: 0.7072691552062869 - val_loss : 2.3410\n",
            "Epoch 66 - val_accuracy: 0.7072691552062869 - val_loss : 2.3532\n",
            "Epoch 67 - val_accuracy: 0.7072691552062869 - val_loss : 2.3799\n",
            "Epoch 68 - val_accuracy: 0.7072691552062869 - val_loss : 2.4007\n",
            "Epoch 69 - val_accuracy: 0.7072691552062869 - val_loss : 2.3879\n",
            "Epoch 70 - val_accuracy: 0.7053045186640472 - val_loss : 2.4310\n",
            "Epoch 71 - val_accuracy: 0.7072691552062869 - val_loss : 2.4151\n",
            "Epoch 72 - val_accuracy: 0.7053045186640472 - val_loss : 2.4509\n",
            "Epoch 73 - val_accuracy: 0.7072691552062869 - val_loss : 2.4503\n",
            "Epoch 74 - val_accuracy: 0.7072691552062869 - val_loss : 2.4686\n",
            "Epoch 75 - val_accuracy: 0.7053045186640472 - val_loss : 2.5197\n",
            "Epoch 76 - val_accuracy: 0.7072691552062869 - val_loss : 2.5366\n",
            "Epoch 77 - val_accuracy: 0.7072691552062869 - val_loss : 2.5659\n",
            "Epoch 78 - val_accuracy: 0.7072691552062869 - val_loss : 2.4996\n",
            "Epoch 79 - val_accuracy: 0.7072691552062869 - val_loss : 2.5656\n",
            "Epoch 80 - val_accuracy: 0.7072691552062869 - val_loss : 2.5670\n",
            "Epoch 81 - val_accuracy: 0.7092337917485265 - val_loss : 2.5632\n",
            "Epoch 82 - val_accuracy: 0.7092337917485265 - val_loss : 2.5728\n",
            "Epoch 83 - val_accuracy: 0.7072691552062869 - val_loss : 2.6184\n",
            "Epoch 84 - val_accuracy: 0.7072691552062869 - val_loss : 2.6410\n",
            "Epoch 85 - val_accuracy: 0.7092337917485265 - val_loss : 2.6048\n",
            "Epoch 86 - val_accuracy: 0.7033398821218074 - val_loss : 2.6777\n",
            "Epoch 87 - val_accuracy: 0.7072691552062869 - val_loss : 2.6829\n",
            "Epoch 88 - val_accuracy: 0.7072691552062869 - val_loss : 2.6567\n",
            "Epoch 89 - val_accuracy: 0.7053045186640472 - val_loss : 2.7177\n",
            "Epoch 90 - val_accuracy: 0.7072691552062869 - val_loss : 2.7058\n",
            "Epoch 91 - val_accuracy: 0.7072691552062869 - val_loss : 2.7525\n",
            "Epoch 92 - val_accuracy: 0.7092337917485265 - val_loss : 2.6928\n",
            "Epoch 93 - val_accuracy: 0.7072691552062869 - val_loss : 2.6998\n",
            "Epoch 94 - val_accuracy: 0.7072691552062869 - val_loss : 2.7435\n",
            "Epoch 95 - val_accuracy: 0.7072691552062869 - val_loss : 2.7737\n",
            "Epoch 96 - val_accuracy: 0.7092337917485265 - val_loss : 2.6760\n",
            "Epoch 97 - val_accuracy: 0.7053045186640472 - val_loss : 2.7219\n",
            "Epoch 98 - val_accuracy: 0.7013752455795678 - val_loss : 2.8050\n",
            "Epoch 99 - val_accuracy: 0.7053045186640472 - val_loss : 2.7760\n",
            "Epoch 100 - val_accuracy: 0.7072691552062869 - val_loss : 2.7825\n"
          ]
        }
      ],
      "source": [
        "from tqdm import tqdm\n",
        "\n",
        "losses = []\n",
        "val_losses = []\n",
        "val_accs = []\n",
        "val_f1s = []\n",
        "val_precisions = []\n",
        "val_recalls = []\n",
        "\n",
        "for epoch in range(EPOCHS):\n",
        "    model.train()\n",
        "    total_loss = 0\n",
        "    for i, (input, target) in enumerate(train_loader):\n",
        "        optimizer.zero_grad() \n",
        "        output = model(torch.reshape(input, (-1,300)))\n",
        "        loss = criterion(torch.squeeze(output), target) \n",
        "        loss.backward()\n",
        "        total_loss+=loss.item()\n",
        "        optimizer.step()\n",
        "    losses.append(total_loss/(i+1))\n",
        "\n",
        "    model.eval()\n",
        "\n",
        "    total_val_loss = 0\n",
        "\n",
        "    with torch.no_grad():\n",
        "        correct = 0\n",
        "        total = 0\n",
        "        total_output = []\n",
        "        total_target = []\n",
        "        for _, (val_input, val_target) in enumerate(val_loader):\n",
        "            val_output = model(torch.reshape(val_input, (-1,300)))\n",
        "            predict = torch.round(val_output)\n",
        "            val_loss = criterion(torch.squeeze(val_output), val_target)\n",
        "            \n",
        "            total_val_loss += val_loss.item()\n",
        "            total += val_target.size(0)\n",
        "            correct += (torch.squeeze(predict) == val_target).long().sum().item()\n",
        "            total_output.append(torch.squeeze(predict).cpu())\n",
        "            total_target.append(val_target.cpu())\n",
        "\n",
        "\n",
        "        total_output = np.concatenate(total_output)\n",
        "        total_target = np.concatenate(total_target)\n",
        "        precision, recall, f1, _ = precision_recall_fscore_support(total_target, total_output, average=None, labels=[1.,0.])\n",
        "    print(\"Epoch {} - val_accuracy: {} - val_loss : {:.4f}\".format(\n",
        "            epoch+1,\n",
        "            correct / total,\n",
        "            total_val_loss / (len(val_loader))))\n",
        "    val_losses.append(total_val_loss / (len(val_loader)))\n",
        "    val_accs.append(correct / total)\n",
        "    val_f1s.append(f1)\n",
        "    val_precisions.append(precision)\n",
        "    val_recalls.append(recall)\n",
        "    "
      ]
    },
    {
      "cell_type": "code",
      "execution_count": 56,
      "metadata": {
        "colab": {
          "base_uri": "https://localhost:8080/",
          "height": 295
        },
        "id": "peeRGOMfdz_B",
        "outputId": "1367db28-bc1c-4b15-a2e7-86f7054bdf2c"
      },
      "outputs": [
        {
          "data": {
            "image/png": "[encoded data removed]",
            "text/plain": [
              "<Figure size 432x288 with 1 Axes>"
            ]
          },
          "metadata": {
            "needs_background": "light"
          },
          "output_type": "display_data"
        }
      ],
      "source": [
        "import matplotlib.pyplot as plt\n",
        "\n",
        "\n",
        "plt.plot(losses)\n",
        "plt.plot(val_losses)\n",
        "plt.title('model loss')\n",
        "plt.ylabel('loss')\n",
        "plt.xlabel('epoch')\n",
        "plt.legend(['Train'], loc='upper left')\n",
        "plt.show()"
      ]
    },
    {
      "cell_type": "code",
      "execution_count": 58,
      "metadata": {
        "colab": {
          "base_uri": "https://localhost:8080/",
          "height": 295
        },
        "id": "IKk6sqyriWkz",
        "outputId": "652d2277-77ae-4f34-879e-e5e1c73eaf7b"
      },
      "outputs": [
        {
          "data": {
            "image/png": "[encoded data removed]",
            "text/plain": [
              "<Figure size 432x288 with 1 Axes>"
            ]
          },
          "metadata": {
            "needs_background": "light"
          },
          "output_type": "display_data"
        }
      ],
      "source": [
        "plt.plot(val_f1s)\n",
        "plt.title('f1')\n",
        "plt.ylabel('f1')\n",
        "plt.xlabel('epoch')\n",
        "plt.legend(['synonym',\"antonym\"], loc='upper right')\n",
        "plt.show()"
      ]
    },
    {
      "cell_type": "code",
      "execution_count": 60,
      "metadata": {
        "colab": {
          "base_uri": "https://localhost:8080/",
          "height": 295
        },
        "id": "s_H619UUHqJT",
        "outputId": "844b7473-92af-4ff1-d25b-62703b888020"
      },
      "outputs": [
        {
          "data": {
            "image/png": "[encoded data removed]",
            "text/plain": [
              "<Figure size 432x288 with 1 Axes>"
            ]
          },
          "metadata": {
            "needs_background": "light"
          },
          "output_type": "display_data"
        }
      ],
      "source": [
        "plt.plot(val_recalls)\n",
        "plt.title('recall')\n",
        "plt.ylabel('f1')\n",
        "plt.xlabel('epoch')\n",
        "plt.legend(['synonym',\"antonym\"], loc='upper right')\n",
        "plt.show()"
      ]
    },
    {
      "cell_type": "code",
      "execution_count": 62,
      "metadata": {
        "colab": {
          "base_uri": "https://localhost:8080/",
          "height": 295
        },
        "id": "YkWuZ9EaHyRq",
        "outputId": "81851de7-fc8b-4bd8-9889-e4f97169e8a1"
      },
      "outputs": [
        {
          "data": {
            "image/png": "[encoded data removed]",
            "text/plain": [
              "<Figure size 432x288 with 1 Axes>"
            ]
          },
          "metadata": {
            "needs_background": "light"
          },
          "output_type": "display_data"
        }
      ],
      "source": [
        "plt.plot(val_precisions)\n",
        "plt.title('precision')\n",
        "plt.ylabel('f1')\n",
        "plt.xlabel('epoch')\n",
        "plt.legend(['synonym',\"antonym\"], loc='upper right')\n",
        "plt.show()"
      ]
    }
  ],
  "metadata": {
    "accelerator": "GPU",
    "colab": {
      "provenance": []
    },
    "gpuClass": "standard",
    "kernelspec": {
      "display_name": "Python 3",
      "name": "python3"
    },
    "language_info": {
      "name": "python"
    }
  },
  "nbformat": 4,
  "nbformat_minor": 0
}
