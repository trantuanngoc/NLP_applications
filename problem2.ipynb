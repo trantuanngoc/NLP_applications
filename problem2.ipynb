{
  "cells": [
    {
      "cell_type": "markdown",
      "metadata": {
        "id": "A5F7xxrek7KX"
      },
      "source": [
        "#Problem 2"
      ]
    },
    {
      "cell_type": "code",
      "execution_count": 26,
      "metadata": {
        "id": "bV4VRbTGqPB4"
      },
      "outputs": [],
      "source": [
        "import torch\n",
        "import numpy as np\n",
        "from scipy import spatial"
      ]
    },
    {
      "cell_type": "code",
      "execution_count": 27,
      "metadata": {
        "id": "QqVb5jplqDXM"
      },
      "outputs": [],
      "source": [
        "N_NEIGHBOR = 10"
      ]
    },
    {
      "cell_type": "code",
      "execution_count": 29,
      "metadata": {
        "id": "avAwet8BQ0MV"
      },
      "outputs": [],
      "source": [
        "def cos_simi(w1, w2, voca):\n",
        "    return 1 - spatial.distance.cosine(voca[w1], voca[w2])"
      ]
    },
    {
      "cell_type": "code",
      "execution_count": 39,
      "metadata": {
        "id": "16VtneaZQxXQ"
      },
      "outputs": [],
      "source": [
        "with open('W2V_150.txt') as f:\n",
        "    lines = f.readlines()\n",
        "lines=lines[2:]\n",
        "\n",
        "vocab={}\n",
        "for line in lines:\n",
        "    s=line.split()\n",
        "    vocab[s[0]]= np.array(s[1:], dtype=\"float\")"
      ]
    },
    {
      "cell_type": "code",
      "execution_count": 50,
      "metadata": {
        "id": "Y-Od4CU8Q8of"
      },
      "outputs": [],
      "source": [
        "from collections import Counter\n",
        "\n",
        "def get_similar_words(w, n_neighbor, vocab):\n",
        "    predict ={}\n",
        "    for key in vocab.keys():\n",
        "        if key != w:\n",
        "            predict[key] = cos_simi(key, w, vocab)\n",
        "    return dict(Counter(predict).most_common(N_NEIGHBOR))"
      ]
    },
    {
      "cell_type": "code",
      "execution_count": 53,
      "metadata": {
        "colab": {
          "base_uri": "https://localhost:8080/"
        },
        "id": "9oBW1CUTVVK0",
        "outputId": "29f3a6a2-0c66-4fd5-d1ee-a61f7d2eac75"
      },
      "outputs": [
        {
          "data": {
            "text/plain": [
              "{'khó_khăn': 0.6293016464861935,\n",
              " 'không_tốt': 0.5701538049191721,\n",
              " 'gây_bất_lợi': 0.5671211811690746,\n",
              " 'thiệt_thòi': 0.5554015694347079,\n",
              " 'bất_ổn': 0.5545950797623029,\n",
              " 'không_thuận_lợi': 0.5529919592035794,\n",
              " 'không_tích_cực': 0.545791639004082,\n",
              " 'thuận_lợi': 0.5348913029963392,\n",
              " 'nhiều_rủi_ro': 0.5216902996409614,\n",
              " 'trở_ngại': 0.5159418437157441}"
            ]
          },
          "execution_count": 53,
          "metadata": {},
          "output_type": "execute_result"
        }
      ],
      "source": [
        "get_similar_words(\"bất_lợi\", N_NEIGHBOR, vocab)"
      ]
    },
    {
      "cell_type": "code",
      "execution_count": 56,
      "metadata": {
        "colab": {
          "base_uri": "https://localhost:8080/"
        },
        "id": "z2dN0oKTXdbP",
        "outputId": "3de9a4c1-370e-4457-95b6-0dfd16f4c158"
      },
      "outputs": [
        {
          "data": {
            "text/plain": [
              "{'hữu_ích': 0.6624093852340639,\n",
              " 'hữu_dụng': 0.5505121950073608,\n",
              " 'có_hại': 0.5375993122888535,\n",
              " 'giúp_ích': 0.533607449616361,\n",
              " 'tốt': 0.48320737466027786,\n",
              " 'lương_thiện': 0.4739712082633194,\n",
              " 'giúp_ích_cho': 0.46748912984484947,\n",
              " 'cần_thiết': 0.4622609797213959,\n",
              " 'điều_tốt': 0.46026140240103053,\n",
              " 'đáng_quý': 0.455399333260994}"
            ]
          },
          "execution_count": 56,
          "metadata": {},
          "output_type": "execute_result"
        }
      ],
      "source": [
        "get_similar_words(\"có_ích\", N_NEIGHBOR, vocab)"
      ]
    }
  ],
  "metadata": {
    "accelerator": "GPU",
    "colab": {
      "provenance": []
    },
    "gpuClass": "standard",
    "kernelspec": {
      "display_name": "Python 3",
      "name": "python3"
    },
    "language_info": {
      "name": "python"
    }
  },
  "nbformat": 4,
  "nbformat_minor": 0
}
